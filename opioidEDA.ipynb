{
 "cells": [
  {
   "cell_type": "markdown",
   "metadata": {},
   "source": [
    "# Opiod Prescription Project: Exploratory Data Analysis\n",
    "_Data from Kaggle_: https://www.kaggle.com/apryor6/us-opiate-prescriptions"
   ]
  },
  {
   "cell_type": "markdown",
   "metadata": {},
   "source": [
    "## I. Data Prep"
   ]
  },
  {
   "cell_type": "markdown",
   "metadata": {},
   "source": [
    "### Imports"
   ]
  },
  {
   "cell_type": "code",
   "execution_count": 1,
   "metadata": {
    "collapsed": true
   },
   "outputs": [],
   "source": [
    "import pandas as pd  # DataFrame, Series\n",
    "import numpy as np  # Scientific Computing Packages - Array\n",
    "import re  # Regularized Expression\n",
    "\n",
    "from sklearn import tree\n",
    "from sklearn.tree import DecisionTreeClassifier\n",
    "from sklearn.model_selection import train_test_split\n",
    "\n",
    "import matplotlib.pyplot as plt\n",
    "import seaborn as sns  # Stats Visualization Library, wraps on top of matplotlib\n",
    "\n",
    "%matplotlib inline"
   ]
  },
  {
   "cell_type": "markdown",
   "metadata": {},
   "source": [
    "### Load Data"
   ]
  },
  {
   "cell_type": "code",
   "execution_count": 2,
   "metadata": {
    "collapsed": true
   },
   "outputs": [],
   "source": [
    "# Dataframe of opioid drugs and their generic brand equivalents\n",
    "opioid = pd.read_csv(\"input/opioids.csv\")\n",
    "\n",
    "# Dataframe of states, total populations, deaths, and state abbrev.\n",
    "overdose = pd.read_csv(\"input/overdoses.csv\")\n",
    "\n",
    "# Dataframe of prescribers and features below\n",
    "prescriber = pd.read_csv(\"input/prescriber-info.csv\")"
   ]
  },
  {
   "cell_type": "markdown",
   "metadata": {},
   "source": [
    "#### Features in prescriber\n",
    "* **NPI** – unique National Provider Identifier number  \n",
    "* **Gender** - (M/F)  \n",
    "* **State**  - U.S. State by abbreviation  \n",
    "* **Credentials** - set of initials indicative of medical degree  \n",
    "* **Specialty** - description of type of medicinal practice  \n",
    "* A long list of drugs with numeric values indicating the total number of prescriptions written for the year by that individual  \n",
    "* **Opioid.Prescriber** - a boolean label indicating whether or not that individual prescribed opiate drugs more than 10 times in the year"
   ]
  },
  {
   "cell_type": "code",
   "execution_count": 3,
   "metadata": {
    "collapsed": true
   },
   "outputs": [
    {
     "data": {
      "text/html": [
       "<div>\n",
       "<style>\n",
       "    .dataframe thead tr:only-child th {\n",
       "        text-align: right;\n",
       "    }\n",
       "\n",
       "    .dataframe thead th {\n",
       "        text-align: left;\n",
       "    }\n",
       "\n",
       "    .dataframe tbody tr th {\n",
       "        vertical-align: top;\n",
       "    }\n",
       "</style>\n",
       "<table border=\"1\" class=\"dataframe\">\n",
       "  <thead>\n",
       "    <tr style=\"text-align: right;\">\n",
       "      <th></th>\n",
       "      <th>Drug Name</th>\n",
       "      <th>Generic Name</th>\n",
       "    </tr>\n",
       "  </thead>\n",
       "  <tbody>\n",
       "    <tr>\n",
       "      <th>0</th>\n",
       "      <td>ABSTRAL</td>\n",
       "      <td>FENTANYL CITRATE</td>\n",
       "    </tr>\n",
       "    <tr>\n",
       "      <th>1</th>\n",
       "      <td>ACETAMINOPHEN-CODEINE</td>\n",
       "      <td>ACETAMINOPHEN WITH CODEINE</td>\n",
       "    </tr>\n",
       "    <tr>\n",
       "      <th>2</th>\n",
       "      <td>ACTIQ</td>\n",
       "      <td>FENTANYL CITRATE</td>\n",
       "    </tr>\n",
       "    <tr>\n",
       "      <th>3</th>\n",
       "      <td>ASCOMP WITH CODEINE</td>\n",
       "      <td>CODEINE/BUTALBITAL/ASA/CAFFEIN</td>\n",
       "    </tr>\n",
       "    <tr>\n",
       "      <th>4</th>\n",
       "      <td>ASPIRIN-CAFFEINE-DIHYDROCODEIN</td>\n",
       "      <td>DIHYDROCODEINE/ASPIRIN/CAFFEIN</td>\n",
       "    </tr>\n",
       "  </tbody>\n",
       "</table>\n",
       "</div>"
      ],
      "text/plain": [
       "                        Drug Name                    Generic Name\n",
       "0                         ABSTRAL                FENTANYL CITRATE\n",
       "1           ACETAMINOPHEN-CODEINE      ACETAMINOPHEN WITH CODEINE\n",
       "2                           ACTIQ                FENTANYL CITRATE\n",
       "3             ASCOMP WITH CODEINE  CODEINE/BUTALBITAL/ASA/CAFFEIN\n",
       "4  ASPIRIN-CAFFEINE-DIHYDROCODEIN  DIHYDROCODEINE/ASPIRIN/CAFFEIN"
      ]
     },
     "execution_count": 3,
     "metadata": {},
     "output_type": "execute_result"
    }
   ],
   "source": [
    "opioid.head()"
   ]
  },
  {
   "cell_type": "code",
   "execution_count": 3,
   "metadata": {
    "collapsed": true
   },
   "outputs": [
    {
     "data": {
      "text/html": [
       "<div>\n",
       "<style>\n",
       "    .dataframe thead tr:only-child th {\n",
       "        text-align: right;\n",
       "    }\n",
       "\n",
       "    .dataframe thead th {\n",
       "        text-align: left;\n",
       "    }\n",
       "\n",
       "    .dataframe tbody tr th {\n",
       "        vertical-align: top;\n",
       "    }\n",
       "</style>\n",
       "<table border=\"1\" class=\"dataframe\">\n",
       "  <thead>\n",
       "    <tr style=\"text-align: right;\">\n",
       "      <th></th>\n",
       "      <th>NPI</th>\n",
       "      <th>Gender</th>\n",
       "      <th>State</th>\n",
       "      <th>Credentials</th>\n",
       "      <th>Specialty</th>\n",
       "      <th>ABILIFY</th>\n",
       "      <th>ACETAMINOPHEN.CODEINE</th>\n",
       "      <th>ACYCLOVIR</th>\n",
       "      <th>ADVAIR.DISKUS</th>\n",
       "      <th>AGGRENOX</th>\n",
       "      <th>...</th>\n",
       "      <th>VERAPAMIL.ER</th>\n",
       "      <th>VESICARE</th>\n",
       "      <th>VOLTAREN</th>\n",
       "      <th>VYTORIN</th>\n",
       "      <th>WARFARIN.SODIUM</th>\n",
       "      <th>XARELTO</th>\n",
       "      <th>ZETIA</th>\n",
       "      <th>ZIPRASIDONE.HCL</th>\n",
       "      <th>ZOLPIDEM.TARTRATE</th>\n",
       "      <th>Opioid.Prescriber</th>\n",
       "    </tr>\n",
       "  </thead>\n",
       "  <tbody>\n",
       "    <tr>\n",
       "      <th>0</th>\n",
       "      <td>1710982582</td>\n",
       "      <td>M</td>\n",
       "      <td>TX</td>\n",
       "      <td>DDS</td>\n",
       "      <td>Dentist</td>\n",
       "      <td>0</td>\n",
       "      <td>0</td>\n",
       "      <td>0</td>\n",
       "      <td>0</td>\n",
       "      <td>0</td>\n",
       "      <td>...</td>\n",
       "      <td>0</td>\n",
       "      <td>0</td>\n",
       "      <td>0</td>\n",
       "      <td>0</td>\n",
       "      <td>0</td>\n",
       "      <td>0</td>\n",
       "      <td>0</td>\n",
       "      <td>0</td>\n",
       "      <td>0</td>\n",
       "      <td>1</td>\n",
       "    </tr>\n",
       "    <tr>\n",
       "      <th>1</th>\n",
       "      <td>1245278100</td>\n",
       "      <td>F</td>\n",
       "      <td>AL</td>\n",
       "      <td>MD</td>\n",
       "      <td>General Surgery</td>\n",
       "      <td>0</td>\n",
       "      <td>0</td>\n",
       "      <td>0</td>\n",
       "      <td>0</td>\n",
       "      <td>0</td>\n",
       "      <td>...</td>\n",
       "      <td>0</td>\n",
       "      <td>0</td>\n",
       "      <td>0</td>\n",
       "      <td>0</td>\n",
       "      <td>0</td>\n",
       "      <td>0</td>\n",
       "      <td>0</td>\n",
       "      <td>0</td>\n",
       "      <td>35</td>\n",
       "      <td>1</td>\n",
       "    </tr>\n",
       "    <tr>\n",
       "      <th>2</th>\n",
       "      <td>1427182161</td>\n",
       "      <td>F</td>\n",
       "      <td>NY</td>\n",
       "      <td>M.D.</td>\n",
       "      <td>General Practice</td>\n",
       "      <td>0</td>\n",
       "      <td>0</td>\n",
       "      <td>0</td>\n",
       "      <td>0</td>\n",
       "      <td>0</td>\n",
       "      <td>...</td>\n",
       "      <td>0</td>\n",
       "      <td>0</td>\n",
       "      <td>0</td>\n",
       "      <td>0</td>\n",
       "      <td>0</td>\n",
       "      <td>0</td>\n",
       "      <td>0</td>\n",
       "      <td>0</td>\n",
       "      <td>25</td>\n",
       "      <td>0</td>\n",
       "    </tr>\n",
       "    <tr>\n",
       "      <th>3</th>\n",
       "      <td>1669567541</td>\n",
       "      <td>M</td>\n",
       "      <td>AZ</td>\n",
       "      <td>MD</td>\n",
       "      <td>Internal Medicine</td>\n",
       "      <td>0</td>\n",
       "      <td>43</td>\n",
       "      <td>0</td>\n",
       "      <td>0</td>\n",
       "      <td>0</td>\n",
       "      <td>...</td>\n",
       "      <td>0</td>\n",
       "      <td>0</td>\n",
       "      <td>0</td>\n",
       "      <td>0</td>\n",
       "      <td>0</td>\n",
       "      <td>0</td>\n",
       "      <td>0</td>\n",
       "      <td>0</td>\n",
       "      <td>0</td>\n",
       "      <td>1</td>\n",
       "    </tr>\n",
       "    <tr>\n",
       "      <th>4</th>\n",
       "      <td>1679650949</td>\n",
       "      <td>M</td>\n",
       "      <td>NV</td>\n",
       "      <td>M.D.</td>\n",
       "      <td>Hematology/Oncology</td>\n",
       "      <td>0</td>\n",
       "      <td>0</td>\n",
       "      <td>0</td>\n",
       "      <td>0</td>\n",
       "      <td>0</td>\n",
       "      <td>...</td>\n",
       "      <td>0</td>\n",
       "      <td>0</td>\n",
       "      <td>0</td>\n",
       "      <td>0</td>\n",
       "      <td>17</td>\n",
       "      <td>28</td>\n",
       "      <td>0</td>\n",
       "      <td>0</td>\n",
       "      <td>0</td>\n",
       "      <td>1</td>\n",
       "    </tr>\n",
       "  </tbody>\n",
       "</table>\n",
       "<p>5 rows × 256 columns</p>\n",
       "</div>"
      ],
      "text/plain": [
       "          NPI Gender State Credentials            Specialty  ABILIFY  \\\n",
       "0  1710982582      M    TX         DDS              Dentist        0   \n",
       "1  1245278100      F    AL          MD      General Surgery        0   \n",
       "2  1427182161      F    NY        M.D.     General Practice        0   \n",
       "3  1669567541      M    AZ          MD    Internal Medicine        0   \n",
       "4  1679650949      M    NV        M.D.  Hematology/Oncology        0   \n",
       "\n",
       "   ACETAMINOPHEN.CODEINE  ACYCLOVIR  ADVAIR.DISKUS  AGGRENOX  \\\n",
       "0                      0          0              0         0   \n",
       "1                      0          0              0         0   \n",
       "2                      0          0              0         0   \n",
       "3                     43          0              0         0   \n",
       "4                      0          0              0         0   \n",
       "\n",
       "         ...          VERAPAMIL.ER  VESICARE  VOLTAREN  VYTORIN  \\\n",
       "0        ...                     0         0         0        0   \n",
       "1        ...                     0         0         0        0   \n",
       "2        ...                     0         0         0        0   \n",
       "3        ...                     0         0         0        0   \n",
       "4        ...                     0         0         0        0   \n",
       "\n",
       "   WARFARIN.SODIUM  XARELTO  ZETIA  ZIPRASIDONE.HCL  ZOLPIDEM.TARTRATE  \\\n",
       "0                0        0      0                0                  0   \n",
       "1                0        0      0                0                 35   \n",
       "2                0        0      0                0                 25   \n",
       "3                0        0      0                0                  0   \n",
       "4               17       28      0                0                  0   \n",
       "\n",
       "   Opioid.Prescriber  \n",
       "0                  1  \n",
       "1                  1  \n",
       "2                  0  \n",
       "3                  1  \n",
       "4                  1  \n",
       "\n",
       "[5 rows x 256 columns]"
      ]
     },
     "execution_count": 3,
     "metadata": {},
     "output_type": "execute_result"
    }
   ],
   "source": [
    "prescriber.head()"
   ]
  },
  {
   "cell_type": "code",
   "execution_count": 45,
   "metadata": {
    "collapsed": true
   },
   "outputs": [
    {
     "data": {
      "text/html": [
       "<div>\n",
       "<style>\n",
       "    .dataframe thead tr:only-child th {\n",
       "        text-align: right;\n",
       "    }\n",
       "\n",
       "    .dataframe thead th {\n",
       "        text-align: left;\n",
       "    }\n",
       "\n",
       "    .dataframe tbody tr th {\n",
       "        vertical-align: top;\n",
       "    }\n",
       "</style>\n",
       "<table border=\"1\" class=\"dataframe\">\n",
       "  <thead>\n",
       "    <tr style=\"text-align: right;\">\n",
       "      <th></th>\n",
       "      <th>State</th>\n",
       "      <th>Population</th>\n",
       "      <th>Deaths</th>\n",
       "      <th>Abbrev</th>\n",
       "      <th>PopNum</th>\n",
       "      <th>DeathNum</th>\n",
       "    </tr>\n",
       "  </thead>\n",
       "  <tbody>\n",
       "    <tr>\n",
       "      <th>0</th>\n",
       "      <td>Alabama</td>\n",
       "      <td>4,833,722</td>\n",
       "      <td>723</td>\n",
       "      <td>AL</td>\n",
       "      <td>4833722</td>\n",
       "      <td>723</td>\n",
       "    </tr>\n",
       "    <tr>\n",
       "      <th>1</th>\n",
       "      <td>Alaska</td>\n",
       "      <td>735,132</td>\n",
       "      <td>124</td>\n",
       "      <td>AK</td>\n",
       "      <td>735132</td>\n",
       "      <td>124</td>\n",
       "    </tr>\n",
       "    <tr>\n",
       "      <th>2</th>\n",
       "      <td>Arizona</td>\n",
       "      <td>6,626,624</td>\n",
       "      <td>1,211</td>\n",
       "      <td>AZ</td>\n",
       "      <td>6626624</td>\n",
       "      <td>1211</td>\n",
       "    </tr>\n",
       "    <tr>\n",
       "      <th>3</th>\n",
       "      <td>Arkansas</td>\n",
       "      <td>2,959,373</td>\n",
       "      <td>356</td>\n",
       "      <td>AR</td>\n",
       "      <td>2959373</td>\n",
       "      <td>356</td>\n",
       "    </tr>\n",
       "    <tr>\n",
       "      <th>4</th>\n",
       "      <td>California</td>\n",
       "      <td>38,332,521</td>\n",
       "      <td>4,521</td>\n",
       "      <td>CA</td>\n",
       "      <td>38332521</td>\n",
       "      <td>4521</td>\n",
       "    </tr>\n",
       "  </tbody>\n",
       "</table>\n",
       "</div>"
      ],
      "text/plain": [
       "        State  Population Deaths Abbrev    PopNum  DeathNum\n",
       "0     Alabama   4,833,722    723     AL   4833722       723\n",
       "1      Alaska     735,132    124     AK    735132       124\n",
       "2     Arizona   6,626,624  1,211     AZ   6626624      1211\n",
       "3    Arkansas   2,959,373    356     AR   2959373       356\n",
       "4  California  38,332,521  4,521     CA  38332521      4521"
      ]
     },
     "execution_count": 45,
     "metadata": {},
     "output_type": "execute_result"
    }
   ],
   "source": [
    "overdose.head()"
   ]
  },
  {
   "cell_type": "markdown",
   "metadata": {},
   "source": [
    "### Convert Population and Deaths to Integers for Plotting\n",
    "Population and Deaths are strings with ','s in original overdose DF"
   ]
  },
  {
   "cell_type": "code",
   "execution_count": 40,
   "metadata": {},
   "outputs": [],
   "source": [
    "overdose['PopNum'] = overdose['Population']\n",
    "overdose['DeathNum'] = overdose['Deaths']\n",
    "\n",
    "import re\n",
    "\n",
    "# Remove commas\n",
    "overdose['PopNum'] = list(re.sub(r',', '', x) for x in overdose['PopNum'])\n",
    "overdose['DeathNum'] = list(re.sub(r',', '', x) for x in overdose['DeathNum'])\n",
    "\n",
    "# Convert str to int\n",
    "overdose['PopNum'] = list(map(int, overdose['PopNum']))\n",
    "overdose['DeathNum'] = list(map(int, overdose['DeathNum']))"
   ]
  },
  {
   "cell_type": "markdown",
   "metadata": {},
   "source": [
    "### Create List of Opioids that were Actually Prescribed"
   ]
  },
  {
   "cell_type": "code",
   "execution_count": 4,
   "metadata": {
    "collapsed": true
   },
   "outputs": [],
   "source": [
    "# List of all opioid drugs from opioid DF\n",
    "## Replace spaces with '.'\n",
    "ops = list(re.sub(r'[-\\s]','.',x) for x in opioid.values[:,0])\n",
    "# len(ops)  # 113\n",
    "\n",
    "# List of opioid drugs that were actually prescribed\n",
    "rxOps = list(set(ops) & set(prescriber.columns))\n",
    "# len(rxOps)  # 11\n",
    "\n",
    "# rxOps = \n",
    "# ['FENTANYL',\n",
    "#  'OXYCODONE.HCL',\n",
    "#  'MORPHINE.SULFATE.ER',\n",
    "#  'OXYCONTIN',\n",
    "#  'TRAMADOL.HCL',\n",
    "#  'ACETAMINOPHEN.CODEINE',\n",
    "#  'HYDROMORPHONE.HCL',\n",
    "#  'OXYCODONE.ACETAMINOPHEN',\n",
    "#  'HYDROCODONE.ACETAMINOPHEN',\n",
    "#  'METHADONE.HCL',\n",
    "#  'MORPHINE.SULFATE']"
   ]
  },
  {
   "cell_type": "code",
   "execution_count": 5,
   "metadata": {},
   "outputs": [
    {
     "data": {
      "text/plain": [
       "['ABSTRAL',\n",
       " 'ACETAMINOPHEN.CODEINE',\n",
       " 'ACTIQ',\n",
       " 'ASCOMP.WITH.CODEINE',\n",
       " 'ASPIRIN.CAFFEINE.DIHYDROCODEIN',\n",
       " 'AVINZA',\n",
       " 'BELLADONNA.OPIUM',\n",
       " 'BUPRENORPHINE.HCL',\n",
       " 'BUTALB.ACETAMINOPH.CAFF.CODEIN',\n",
       " 'BUTALB.CAFF.ACETAMINOPH.CODEIN',\n",
       " 'BUTALBITAL.COMPOUND.CODEINE',\n",
       " 'BUTORPHANOL.TARTRATE',\n",
       " 'BUTRANS',\n",
       " 'CAPITAL.W.CODEINE',\n",
       " 'CARISOPRODOL.COMPOUND.CODEINE',\n",
       " 'CARISOPRODOL.ASPIRIN.CODEINE',\n",
       " 'CODEINE.SULFATE',\n",
       " 'CO.GESIC',\n",
       " 'CONZIP',\n",
       " 'DEMEROL',\n",
       " 'DEMEROL',\n",
       " 'DILAUDID',\n",
       " 'DILAUDID',\n",
       " 'DILAUDID.HP',\n",
       " 'DISKETS',\n",
       " 'DOLOPHINE.HCL',\n",
       " 'DURAGESIC',\n",
       " 'DURAMORPH',\n",
       " 'ENDOCET',\n",
       " 'ENDODAN',\n",
       " 'EXALGO',\n",
       " 'FENTANYL',\n",
       " 'FENTANYL.CITRATE',\n",
       " 'FENTORA',\n",
       " 'FIORICET.WITH.CODEINE',\n",
       " 'FIORINAL.WITH.CODEINE.#3',\n",
       " 'HYCET',\n",
       " 'HYDROCODONE.ACETAMINOPHEN',\n",
       " 'HYDROCODONE.IBUPROFEN',\n",
       " 'HYDROMORPHONE.ER',\n",
       " 'HYDROMORPHONE.HCL',\n",
       " 'HYDROMORPHONE.HCL',\n",
       " 'IBUDONE',\n",
       " 'INFUMORPH',\n",
       " 'KADIAN',\n",
       " 'LAZANDA',\n",
       " 'LEVORPHANOL.TARTRATE',\n",
       " 'LORCET',\n",
       " 'LORCET.10.650',\n",
       " 'LORCET.HD',\n",
       " 'LORCET.PLUS',\n",
       " 'LORTAB',\n",
       " 'MAGNACET',\n",
       " 'MEPERIDINE.HCL',\n",
       " 'MEPERIDINE.HCL',\n",
       " 'MEPERITAB',\n",
       " 'METHADONE.HCL',\n",
       " 'METHADONE.INTENSOL',\n",
       " 'METHADOSE',\n",
       " 'MORPHINE.SULFATE',\n",
       " 'MORPHINE.SULFATE',\n",
       " 'MORPHINE.SULFATE.ER',\n",
       " 'MS.CONTIN',\n",
       " 'NALBUPHINE.HCL',\n",
       " 'NORCO',\n",
       " 'NUCYNTA',\n",
       " 'NUCYNTA.ER',\n",
       " 'OPANA',\n",
       " 'OPANA.ER',\n",
       " 'OPIUM.TINCTURE',\n",
       " 'OXECTA',\n",
       " 'OXYCODONE.HCL',\n",
       " 'OXYCODONE.HCL.ER',\n",
       " 'OXYCODONE.HCL.ASPIRIN',\n",
       " 'OXYCODONE.HCL.IBUPROFEN',\n",
       " 'OXYCODONE.ACETAMINOPHEN',\n",
       " 'OXYCONTIN',\n",
       " 'OXYMORPHONE.HCL',\n",
       " 'OXYMORPHONE.HCL.ER',\n",
       " 'PENTAZOCINE.ACETAMINOPHEN',\n",
       " 'PENTAZOCINE.NALOXONE.HCL',\n",
       " 'PERCOCET',\n",
       " 'PERCODAN',\n",
       " 'PRIMLEV',\n",
       " 'REPREXAIN',\n",
       " 'ROXICET',\n",
       " 'ROXICODONE',\n",
       " 'RYBIX.ODT',\n",
       " 'STAGESIC',\n",
       " 'SUBSYS',\n",
       " 'SYNALGOS.DC',\n",
       " 'TALWIN',\n",
       " 'TRAMADOL.HCL',\n",
       " 'TRAMADOL.HCL.ER',\n",
       " 'TRAMADOL.HCL.ACETAMINOPHEN',\n",
       " 'TREZIX',\n",
       " 'TYLENOL.CODEINE.NO.3',\n",
       " 'TYLENOL.CODEINE.NO.4',\n",
       " 'ULTRACET',\n",
       " 'ULTRAM',\n",
       " 'ULTRAM.ER',\n",
       " 'VICODIN',\n",
       " 'VICODIN.ES',\n",
       " 'VICODIN.HP',\n",
       " 'VICOPROFEN',\n",
       " 'XARTEMIS.XR',\n",
       " 'XODOL.10.300',\n",
       " 'XODOL.5.300',\n",
       " 'XODOL.7.5.300',\n",
       " 'XYLON.10',\n",
       " 'ZAMICET',\n",
       " 'ZOHYDRO.ER',\n",
       " 'ZOLVIT']"
      ]
     },
     "execution_count": 5,
     "metadata": {},
     "output_type": "execute_result"
    }
   ],
   "source": [
    "ops"
   ]
  },
  {
   "cell_type": "markdown",
   "metadata": {},
   "source": [
    "## II. Data Exploration"
   ]
  },
  {
   "cell_type": "markdown",
   "metadata": {},
   "source": [
    "### Plot Number of Opioids vs Number of Prescriptions\n",
    "Each dot represent a prescriber, who prescribed Y prescriptions, X of which were opioids"
   ]
  },
  {
   "cell_type": "code",
   "execution_count": 8,
   "metadata": {},
   "outputs": [
    {
     "data": {
      "text/plain": [
       "<matplotlib.axes._subplots.AxesSubplot at 0x10c592128>"
      ]
     },
     "execution_count": 8,
     "metadata": {},
     "output_type": "execute_result"
    },
    {
     "data": {
      "image/png": "[encoded data removed]",
      "text/plain": [
       "<matplotlib.figure.Figure at 0x10c592eb8>"
      ]
     },
     "metadata": {},
     "output_type": "display_data"
    }
   ],
   "source": [
    "# Number of opioids column appended to prescriber DF\n",
    "## Sums total number of prescriptions given in prescriber that are also in rxOps\n",
    "prescriber['NumOpioid'] = prescriber.apply(lambda x: sum(x[rxOps]), axis=1)\n",
    "\n",
    "# Number of prescriptions column appended to prescriber DF\n",
    "## Sums total number of prescriptions given in columns 5-255 in prescriber DF\n",
    "prescriber['NumPrescription'] = prescriber.apply(lambda x: sum(x.iloc[5:255]), axis=1)\n",
    "\n",
    "# Plot number of opioids vs number of prescriptions per prescriber\n",
    "prescriber.plot.scatter('NumOpioid', 'NumPrescription')"
   ]
  },
  {
   "cell_type": "markdown",
   "metadata": {},
   "source": [
    "### Histogram of Opioid Prescription Frequency\n",
    "Shows frequency of ratios of opioid to total prescriptions by a prescriber  \n",
    "* This shows that most prescribers (~17500) prescribe opioids 10% or less of the time\n",
    "* This does show there is an unusual bump in number of prescribers (~1200) who prescribe almost exclusively opioids"
   ]
  },
  {
   "cell_type": "code",
   "execution_count": 9,
   "metadata": {},
   "outputs": [
    {
     "data": {
      "text/plain": [
       "array([[<matplotlib.axes._subplots.AxesSubplot object at 0x11b0675c0>]], dtype=object)"
      ]
     },
     "execution_count": 9,
     "metadata": {},
     "output_type": "execute_result"
    },
    {
     "data": {
      "image/png": "[encoded data removed]",
      "text/plain": [
       "<matplotlib.figure.Figure at 0x11b1f6b00>"
      ]
     },
     "metadata": {},
     "output_type": "display_data"
    }
   ],
   "source": [
    "# FracOp is fraction of NumOpioid/NumPrescription for every prescriber\n",
    "prescriber['FracOp'] = prescriber.apply(lambda x: float(x['NumOpioid'])/x['NumPrescription'], axis=1)\n",
    "\n",
    "# Histogram of FracOp\n",
    "prescriber.hist('FracOp')"
   ]
  },
  {
   "cell_type": "markdown",
   "metadata": {},
   "source": [
    "### Compare Opioid Deaths and State Populations\n",
    "Pretty linear"
   ]
  },
  {
   "cell_type": "code",
   "execution_count": 50,
   "metadata": {},
   "outputs": [
    {
     "data": {
      "text/plain": [
       "[<matplotlib.lines.Line2D at 0x1180296a0>]"
      ]
     },
     "execution_count": 50,
     "metadata": {},
     "output_type": "execute_result"
    },
    {
     "data": {
      "image/png": "[encoded data removed]",
      "text/plain": [
       "<matplotlib.figure.Figure at 0x1180294e0>"
      ]
     },
     "metadata": {},
     "output_type": "display_data"
    }
   ],
   "source": [
    "# Scatter plot of deaths over population per state\n",
    "overdose.plot.scatter('PopNum', 'DeathNum')\n",
    "\n",
    "# Set axes range\n",
    "plt.xlim(0, max(overdose['PopNum']))\n",
    "plt.ylim(0, max(overdose['DeathNum']))\n",
    "\n",
    "# Linear regression\n",
    "m, b = np.polyfit(overdose['PopNum'], overdose['DeathNum'], 1)\n",
    "plt.plot(x, m*x + b, '-')"
   ]
  },
  {
   "cell_type": "code",
   "execution_count": 86,
   "metadata": {
    "scrolled": true
   },
   "outputs": [
    {
     "data": {
      "image/png": "[encoded data removed]",
      "text/plain": [
       "<matplotlib.figure.Figure at 0x118af9fd0>"
      ]
     },
     "metadata": {},
     "output_type": "display_data"
    }
   ],
   "source": [
    "# seaborn.regplot returns the data and a linear regression model fit\n",
    "## shaded area is confidence interval (default ci=95)\n",
    "import seaborn as sns; sns.set(color_codes=True)\n",
    "ax = sns.regplot(x='PopNum', y='DeathNum', data=overdose)"
   ]
  },
  {
   "cell_type": "markdown",
   "metadata": {},
   "source": [
    "### Opioid Prescription by Provider Specialty\n",
    "* mean_NO shows that Interventional Pain Management, Addiction Medicine, and Pain Management are the top specialties to prescribe opioids\n",
    "* mean_fracO shows Hand Surgery prescriptions have the largest fraction of opioids\n",
    "* Although Hand Surgery has the greatest fraction of opioid prescriptions, the pain specialties prescribe the most total"
   ]
  },
  {
   "cell_type": "code",
   "execution_count": 89,
   "metadata": {},
   "outputs": [
    {
     "data": {
      "text/plain": [
       "Specialty\n",
       "Interventional Pain Management          1173.191489\n",
       "Addiction Medicine                      1167.000000\n",
       "Pain Management                         1135.000000\n",
       "Anesthesiology                           507.507246\n",
       "Physical Medicine and Rehabilitation     440.150000\n",
       "Name: NumOpioid, dtype: float64"
      ]
     },
     "execution_count": 89,
     "metadata": {},
     "output_type": "execute_result"
    }
   ],
   "source": [
    "# Average number of opioids prescribed by specialty\n",
    "mean_NO = prescriber.groupby('Specialty')['NumOpioid'].mean().sort_values(ascending=False)\n",
    "mean_NO.head()"
   ]
  },
  {
   "cell_type": "code",
   "execution_count": 113,
   "metadata": {},
   "outputs": [
    {
     "data": {
      "text/plain": [
       "Specialty\n",
       "Hand Surgery                      0.811180\n",
       "Orthopaedic Surgery               0.691484\n",
       "Surgery                           0.638596\n",
       "Orthopedic Surgery                0.623872\n",
       "General Surgery                   0.622490\n",
       "Interventional Pain Management    0.600386\n",
       "Neurological Surgery              0.600000\n",
       "Surgical Oncology                 0.588958\n",
       "Pain Management                   0.588498\n",
       "Addiction Medicine                0.548092\n",
       "Name: FracOp, dtype: float64"
      ]
     },
     "execution_count": 113,
     "metadata": {},
     "output_type": "execute_result"
    }
   ],
   "source": [
    "# Average fraction of opioids among all drug prescribtions by specialty\n",
    "mean_fracO = prescriber.groupby('Specialty')['FracOp'].mean().sort_values(ascending=False)\n",
    "mean_fracO.head(10)"
   ]
  },
  {
   "cell_type": "code",
   "execution_count": 93,
   "metadata": {},
   "outputs": [
    {
     "data": {
      "text/html": [
       "<div>\n",
       "<style>\n",
       "    .dataframe thead tr:only-child th {\n",
       "        text-align: right;\n",
       "    }\n",
       "\n",
       "    .dataframe thead th {\n",
       "        text-align: left;\n",
       "    }\n",
       "\n",
       "    .dataframe tbody tr th {\n",
       "        vertical-align: top;\n",
       "    }\n",
       "</style>\n",
       "<table border=\"1\" class=\"dataframe\">\n",
       "  <thead>\n",
       "    <tr style=\"text-align: right;\">\n",
       "      <th></th>\n",
       "      <th>NPI</th>\n",
       "      <th>Gender</th>\n",
       "      <th>State</th>\n",
       "      <th>Credentials</th>\n",
       "      <th>Specialty</th>\n",
       "      <th>ABILIFY</th>\n",
       "      <th>ACETAMINOPHEN.CODEINE</th>\n",
       "      <th>ACYCLOVIR</th>\n",
       "      <th>ADVAIR.DISKUS</th>\n",
       "      <th>AGGRENOX</th>\n",
       "      <th>...</th>\n",
       "      <th>XARELTO</th>\n",
       "      <th>ZETIA</th>\n",
       "      <th>ZIPRASIDONE.HCL</th>\n",
       "      <th>ZOLPIDEM.TARTRATE</th>\n",
       "      <th>Opioid.Prescriber</th>\n",
       "      <th>NumOpioid</th>\n",
       "      <th>NumPrescription</th>\n",
       "      <th>FracOp</th>\n",
       "      <th>O.Diff</th>\n",
       "      <th>FracO.Diff</th>\n",
       "    </tr>\n",
       "  </thead>\n",
       "  <tbody>\n",
       "    <tr>\n",
       "      <th>0</th>\n",
       "      <td>1710982582</td>\n",
       "      <td>M</td>\n",
       "      <td>TX</td>\n",
       "      <td>DDS</td>\n",
       "      <td>Dentist</td>\n",
       "      <td>0</td>\n",
       "      <td>0</td>\n",
       "      <td>0</td>\n",
       "      <td>0</td>\n",
       "      <td>0</td>\n",
       "      <td>...</td>\n",
       "      <td>0</td>\n",
       "      <td>0</td>\n",
       "      <td>0</td>\n",
       "      <td>0</td>\n",
       "      <td>1</td>\n",
       "      <td>17</td>\n",
       "      <td>29</td>\n",
       "      <td>0.586207</td>\n",
       "      <td>7.946071</td>\n",
       "      <td>0.468841</td>\n",
       "    </tr>\n",
       "    <tr>\n",
       "      <th>1</th>\n",
       "      <td>1245278100</td>\n",
       "      <td>F</td>\n",
       "      <td>AL</td>\n",
       "      <td>MD</td>\n",
       "      <td>General Surgery</td>\n",
       "      <td>0</td>\n",
       "      <td>0</td>\n",
       "      <td>0</td>\n",
       "      <td>0</td>\n",
       "      <td>0</td>\n",
       "      <td>...</td>\n",
       "      <td>0</td>\n",
       "      <td>0</td>\n",
       "      <td>0</td>\n",
       "      <td>35</td>\n",
       "      <td>1</td>\n",
       "      <td>362</td>\n",
       "      <td>1418</td>\n",
       "      <td>0.255289</td>\n",
       "      <td>314.322382</td>\n",
       "      <td>-0.367201</td>\n",
       "    </tr>\n",
       "    <tr>\n",
       "      <th>2</th>\n",
       "      <td>1427182161</td>\n",
       "      <td>F</td>\n",
       "      <td>NY</td>\n",
       "      <td>M.D.</td>\n",
       "      <td>General Practice</td>\n",
       "      <td>0</td>\n",
       "      <td>0</td>\n",
       "      <td>0</td>\n",
       "      <td>0</td>\n",
       "      <td>0</td>\n",
       "      <td>...</td>\n",
       "      <td>0</td>\n",
       "      <td>0</td>\n",
       "      <td>0</td>\n",
       "      <td>25</td>\n",
       "      <td>0</td>\n",
       "      <td>0</td>\n",
       "      <td>289</td>\n",
       "      <td>0.000000</td>\n",
       "      <td>-142.032389</td>\n",
       "      <td>-0.101075</td>\n",
       "    </tr>\n",
       "    <tr>\n",
       "      <th>3</th>\n",
       "      <td>1669567541</td>\n",
       "      <td>M</td>\n",
       "      <td>AZ</td>\n",
       "      <td>MD</td>\n",
       "      <td>Internal Medicine</td>\n",
       "      <td>0</td>\n",
       "      <td>43</td>\n",
       "      <td>0</td>\n",
       "      <td>0</td>\n",
       "      <td>0</td>\n",
       "      <td>...</td>\n",
       "      <td>0</td>\n",
       "      <td>0</td>\n",
       "      <td>0</td>\n",
       "      <td>0</td>\n",
       "      <td>1</td>\n",
       "      <td>559</td>\n",
       "      <td>1757</td>\n",
       "      <td>0.318156</td>\n",
       "      <td>397.113338</td>\n",
       "      <td>0.259342</td>\n",
       "    </tr>\n",
       "    <tr>\n",
       "      <th>4</th>\n",
       "      <td>1679650949</td>\n",
       "      <td>M</td>\n",
       "      <td>NV</td>\n",
       "      <td>M.D.</td>\n",
       "      <td>Hematology/Oncology</td>\n",
       "      <td>0</td>\n",
       "      <td>0</td>\n",
       "      <td>0</td>\n",
       "      <td>0</td>\n",
       "      <td>0</td>\n",
       "      <td>...</td>\n",
       "      <td>28</td>\n",
       "      <td>0</td>\n",
       "      <td>0</td>\n",
       "      <td>0</td>\n",
       "      <td>1</td>\n",
       "      <td>66</td>\n",
       "      <td>179</td>\n",
       "      <td>0.368715</td>\n",
       "      <td>-13.642202</td>\n",
       "      <td>0.143527</td>\n",
       "    </tr>\n",
       "  </tbody>\n",
       "</table>\n",
       "<p>5 rows × 261 columns</p>\n",
       "</div>"
      ],
      "text/plain": [
       "          NPI Gender State Credentials            Specialty  ABILIFY  \\\n",
       "0  1710982582      M    TX         DDS              Dentist        0   \n",
       "1  1245278100      F    AL          MD      General Surgery        0   \n",
       "2  1427182161      F    NY        M.D.     General Practice        0   \n",
       "3  1669567541      M    AZ          MD    Internal Medicine        0   \n",
       "4  1679650949      M    NV        M.D.  Hematology/Oncology        0   \n",
       "\n",
       "   ACETAMINOPHEN.CODEINE  ACYCLOVIR  ADVAIR.DISKUS  AGGRENOX     ...      \\\n",
       "0                      0          0              0         0     ...       \n",
       "1                      0          0              0         0     ...       \n",
       "2                      0          0              0         0     ...       \n",
       "3                     43          0              0         0     ...       \n",
       "4                      0          0              0         0     ...       \n",
       "\n",
       "   XARELTO  ZETIA  ZIPRASIDONE.HCL  ZOLPIDEM.TARTRATE  Opioid.Prescriber  \\\n",
       "0        0      0                0                  0                  1   \n",
       "1        0      0                0                 35                  1   \n",
       "2        0      0                0                 25                  0   \n",
       "3        0      0                0                  0                  1   \n",
       "4       28      0                0                  0                  1   \n",
       "\n",
       "   NumOpioid  NumPrescription    FracOp      O.Diff  FracO.Diff  \n",
       "0         17               29  0.586207    7.946071    0.468841  \n",
       "1        362             1418  0.255289  314.322382   -0.367201  \n",
       "2          0              289  0.000000 -142.032389   -0.101075  \n",
       "3        559             1757  0.318156  397.113338    0.259342  \n",
       "4         66              179  0.368715  -13.642202    0.143527  \n",
       "\n",
       "[5 rows x 261 columns]"
      ]
     },
     "execution_count": 93,
     "metadata": {},
     "output_type": "execute_result"
    }
   ],
   "source": [
    "# Look at variance within specialties\n",
    "\n",
    "# O.Diff is the number of opioids above or below the average prescribed within the specialty\n",
    "## the total number of opioids minus the average opioids prescribed per specialty\n",
    "prescriber['O.Diff'] = prescriber.apply(lambda x: x['NumOpioid'] - mean_NO[x['Specialty']], axis=1)\n",
    "\n",
    "# FracO.Diff is the fraction of opioids above or below the average within the specialty\n",
    "## the total fraction of opioids prescribed minus the average fraction by specialty\n",
    "prescriber['FracO.Diff'] = prescriber.apply(lambda x: x['FracOp'] - mean_fracO[x['Specialty']], axis=1)\n",
    "\n",
    "prescriber.head()"
   ]
  },
  {
   "cell_type": "code",
   "execution_count": 112,
   "metadata": {},
   "outputs": [
    {
     "data": {
      "text/plain": [
       "0.600386179841028"
      ]
     },
     "execution_count": 112,
     "metadata": {},
     "output_type": "execute_result"
    }
   ],
   "source": [
    "# Average fraction opioids of all prescriptions prescribed by Interventional Pain Management\n",
    "(prescriber.loc[prescriber['Specialty'] == 'Interventional Pain Management', 'FracOp']).mean()"
   ]
  }
 ],
 "metadata": {
  "kernelspec": {
   "display_name": "Python 3",
   "language": "python",
   "name": "python3"
  },
  "language_info": {
   "codemirror_mode": {
    "name": "ipython",
    "version": 3
   },
   "file_extension": ".py",
   "mimetype": "text/x-python",
   "name": "python",
   "nbconvert_exporter": "python",
   "pygments_lexer": "ipython3",
   "version": "3.6.1"
  }
 },
 "nbformat": 4,
 "nbformat_minor": 2
}
